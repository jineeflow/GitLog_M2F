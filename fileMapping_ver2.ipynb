{
 "cells": [
  {
   "cell_type": "markdown",
   "id": "f9b894fe-9368-4383-9a53-191df825b4e6",
   "metadata": {
    "tags": []
   },
   "source": [
    "# 논문 (git commit log 활용)\n",
    "## 프로젝트 git 대상 파일 목록을 메뉴별로 mapping"
   ]
  },
  {
   "cell_type": "code",
   "execution_count": 1,
   "id": "b5f04191-f337-4747-b007-0341958ac7c6",
   "metadata": {
    "tags": []
   },
   "outputs": [],
   "source": [
    "import pandas as pd\n",
    "import re\n",
    "import os\n",
    "import subprocess\n",
    "from tabulate import tabulate"
   ]
  },
  {
   "cell_type": "code",
   "execution_count": 2,
   "id": "91e2f9ce-ac60-4536-b978-98ec03a8e84d",
   "metadata": {
    "tags": []
   },
   "outputs": [],
   "source": [
    "# 디렉토리에서 include_keywords 포함하고 exclude_keywords 포함하지 않는 파일목록 추출하기\n",
    "def find_files_keywords(extension, include_keywords, exclude_keywords, directory=r'D:\\project\\workspace\\sanhakin\\src\\main'):\n",
    "\n",
    "    matching_files = []\n",
    "\n",
    "    for root, dirs, files in os.walk(directory):\n",
    "        for file in files:\n",
    "            if file.endswith(extension):\n",
    "                file_path = os.path.join(root, file)\n",
    "                with open(file_path, 'r', encoding='utf-8', errors='ignore') as f:\n",
    "                    for line_number, line in enumerate(f, start=1):\n",
    "                        include_match = any(re.search(keyword, line) for keyword in include_keywords)\n",
    "                        exclude_match = any(re.search(keyword, line) for keyword in exclude_keywords)\n",
    "                        if include_match and not exclude_match and not line.strip().startswith('//'):\n",
    "                            matching_files.append(f\"{file_path} || {line.strip()}\")\n",
    "                            # print(f\"Found in: {file_path} || txt: {line.strip()}\")\n",
    "    return matching_files    \n",
    "\n",
    "def save_txt_file(output_file_path, matching_files):\n",
    "   with open(output_file_path, 'w', encoding='utf-8') as output_file:\n",
    "    for rowInfo in matching_files:\n",
    "        output_file.write(rowInfo + '\\n') "
   ]
  },
  {
   "cell_type": "markdown",
   "id": "03638a54-6dd1-4787-926d-7bf4ee72186c",
   "metadata": {
    "tags": []
   },
   "source": [
    "## 1-1. xml파일에서 .do 포함하는 파일 추출하기\n",
    "### findstr /s  action.*\\.do D:\\sanhakin\\src\\main\\*.xml > xml_do_list.txt"
   ]
  },
  {
   "cell_type": "code",
   "execution_count": 3,
   "id": "7df1ded3-76cd-489d-8cda-2005394694b5",
   "metadata": {
    "scrolled": true,
    "tags": []
   },
   "outputs": [
    {
     "name": "stderr",
     "output_type": "stream",
     "text": [
      "<>:3: SyntaxWarning: invalid escape sequence '\\.'\n",
      "<>:3: SyntaxWarning: invalid escape sequence '\\.'\n",
      "C:\\Users\\yjum\\AppData\\Local\\Temp\\ipykernel_34648\\1595046485.py:3: SyntaxWarning: invalid escape sequence '\\.'\n",
      "  regex_keywords = ['action.*\\.do']\n"
     ]
    }
   ],
   "source": [
    "# xml_do 파일을 읽어서 정제 후 xml명과 do 포함 텍스트를 csv 파일로 저장\n",
    "extension = 'xml'\n",
    "regex_keywords = ['action.*\\.do']\n",
    "\n",
    "matching_files = find_files_keywords(extension, regex_keywords,'')\n",
    "\n",
    "output_file_path = './txt/xml_do_list.txt'\n",
    "\n",
    "save_txt_file(output_file_path, matching_files )\n",
    "\n",
    "data = []\n",
    "\n",
    "# 텍스트 파일을 한 줄씩 읽어옵니다.\n",
    "with open(output_file_path, \"r\", encoding=\"utf-8\") as file:\n",
    "    sch_txt = r'action=\"/sanhakin'\n",
    "\n",
    "    for line in file:\n",
    "        # 각 줄을 ' || '로 분리하여 데이터를 추출합니다.\n",
    "        parts = line.split(r' || ')\n",
    "        xml_url = parts[0].replace(r'D:\\project\\workspace\\sanhakin\\src\\main\\webapp', '').replace('\\\\', '/')\n",
    "\n",
    "        snd_part = parts[1]\n",
    "        if sch_txt in snd_part:\n",
    "            idx = snd_part.find(sch_txt)\n",
    "            end_idx = snd_part.find('.do', idx)\n",
    "            if idx != -1 and end_idx != -1:\n",
    "                do_txt = snd_part[idx + len(sch_txt):end_idx + 3]\n",
    "                # print(\"do_txt-->\" +  do_txt)\n",
    "                data.append({'xml_url': xml_url.strip(), 'Do_txt': do_txt.strip()})\n",
    "\n",
    "# 데이터를 데이터프레임으로 변환합니다.\n",
    "df = pd.DataFrame(data)\n",
    "\n",
    "# 데이터프레임을 출력합니다.\n",
    "# print(df)\n",
    "df.to_csv('./csv/xml_do.csv', encoding=\"utf-8\", index=False)"
   ]
  },
  {
   "cell_type": "markdown",
   "id": "0095997b-444d-4b8f-bf1f-d1b9c69bb349",
   "metadata": {
    "tags": []
   },
   "source": [
    "## 1-2. xml파일에서 .xml 포함하는 파일 추출하기 (화면에서 다른 메뉴화면 call 하는 경우) //주석으로 된 줄 제외\n",
    "### findstr /s  \\/wqxml.*\\.xml D:\\sanhakin\\src\\main\\*.xml | findstr /v /i /c:\"//\" > xml_Inxml.txt "
   ]
  },
  {
   "cell_type": "code",
   "execution_count": 4,
   "id": "0b5f775e-8ed8-4eee-9799-b3b5dfd15848",
   "metadata": {
    "tags": []
   },
   "outputs": [],
   "source": [
    "# xml_do 파일을 읽어서 정제 후 xml명과 do 포함 텍스트를 csv 파일로 저장\n",
    "extension = 'xml'\n",
    "regex_keywords = ['/wqxml/.*\\\\.xml']\n",
    "\n",
    "matching_files = find_files_keywords(extension, regex_keywords,'')\n",
    "\n",
    "output_file_path = './txt/xml_Inxml.txt'\n",
    "\n",
    "save_txt_file(output_file_path, matching_files )\n",
    "        \n",
    "data = []\n",
    "\n",
    "# 텍스트 파일을 한 줄씩 읽어옵니다.\n",
    "with open(output_file_path, 'r', encoding='utf-8') as file:\n",
    "\n",
    "    for line in file:\n",
    "        # 각 줄을 ' || '로 분리하여 데이터를 추출합니다.\n",
    "        parts = line.split(r' || ')\n",
    "        xml_url = parts[0].replace(r'D:\\project\\workspace\\sanhakin\\src\\main\\webapp', '').replace('\\\\', '/')\n",
    "        \n",
    "        #두번째 원소부터 /wqxml/과 .xml 을 포함하는지 체크해서 문자열 추출하기\n",
    "        snd_part = parts[1]\n",
    "        if '/wqxml/' in snd_part:\n",
    "            idx = snd_part.find('/wqxml/')\n",
    "            end_idx = snd_part.find('.xml', idx)\n",
    "            \n",
    "            if idx != -1 and end_idx != -1:\n",
    "                inXmlPath = snd_part[idx:end_idx + 4]\n",
    "                # print(\"inXmlPath String:\", inXmlPath)\n",
    "                # print(\"xml_path-->\" +  xml_path)\n",
    "                data.append({'xml_url': xml_url.strip(), 'inXml': inXmlPath.strip()})\n",
    "\n",
    "# 데이터를 데이터프레임으로 변환합니다.\n",
    "df = pd.DataFrame(data)\n",
    "df = df.drop_duplicates()\n",
    "# 데이터프레임을 출력합니다.\n",
    "# print(df)\n",
    "df.to_csv('./csv/xml_Inxml.csv', encoding=\"utf-8\", index=False)"
   ]
  },
  {
   "cell_type": "markdown",
   "id": "4270bc3d-377e-481d-a3bd-10bb6d559867",
   "metadata": {
    "tags": []
   },
   "source": [
    "## 2-1. _Controller.java 파일에서\n",
    "### (1) @RequestMapping .do 포함 텍스트 추출 xml - Controller.java\n",
    "### (2) @Resource 포함 텍스트 추출           Controller- serviceImpl\n",
    "### findstr /s  \\@RequestMapping\\(.*\\) D:\\sanhakin\\src\\main\\*Controller.java > controller_do.txt"
   ]
  },
  {
   "cell_type": "code",
   "execution_count": 5,
   "id": "b4385082-5415-498a-b6de-52128eed4b31",
   "metadata": {
    "tags": []
   },
   "outputs": [
    {
     "name": "stderr",
     "output_type": "stream",
     "text": [
      "<>:3: SyntaxWarning: invalid escape sequence '\\('\n",
      "<>:3: SyntaxWarning: invalid escape sequence '\\('\n",
      "<>:3: SyntaxWarning: invalid escape sequence '\\('\n",
      "<>:3: SyntaxWarning: invalid escape sequence '\\('\n",
      "C:\\Users\\yjum\\AppData\\Local\\Temp\\ipykernel_34648\\2156167582.py:3: SyntaxWarning: invalid escape sequence '\\('\n",
      "  regex_keywords = ['@RequestMapping\\(.*\\)', '@Resource\\(.*\\)']\n",
      "C:\\Users\\yjum\\AppData\\Local\\Temp\\ipykernel_34648\\2156167582.py:3: SyntaxWarning: invalid escape sequence '\\('\n",
      "  regex_keywords = ['@RequestMapping\\(.*\\)', '@Resource\\(.*\\)']\n"
     ]
    }
   ],
   "source": [
    "# do_controller 파일을 읽어서 정제 후 do 포함 텍스트와 controller명을 csv 파일로 저장\n",
    "extension = 'Controller.java'\n",
    "regex_keywords = ['@RequestMapping\\(.*\\)', '@Resource\\(.*\\)']\n",
    "\n",
    "matching_files = find_files_keywords(extension, regex_keywords, '')\n",
    "\n",
    "output_file_path = './txt/controller_do.txt'\n",
    "\n",
    "save_txt_file(output_file_path, matching_files )\n",
    "\n",
    "# 빈 리스트를 생성하여 데이터 저장 준비\n",
    "data = []\n",
    "data2 = []\n",
    "\n",
    "# 텍스트 파일을 한 줄씩 읽어옵니다.\n",
    "with open(output_file_path, \"r\", encoding=\"utf-8\") as file:\n",
    "\n",
    "    for line in file:\n",
    "        # parts = re.split(r'@RequestMapping|@Resource', line)\n",
    "        # 각 줄을 ' || '로 분리하여 데이터를 추출합니다.\n",
    "        parts = line.split(r' || ')\n",
    "        controller_url = parts[0].replace(r'D:\\project\\workspace\\sanhakin', '').replace('\\\\', '/')\n",
    "\n",
    "        #경로와 파일이름 분리\n",
    "        controller_path, controller_file = os.path.split(controller_url)\n",
    "        snd_part = parts[1]\n",
    "        if '@RequestMapping' in snd_part:\n",
    "            idx = snd_part.find(\",\")\n",
    "\n",
    "            if idx >  -1:\n",
    "                for text in snd_part.split(\",\"):\n",
    "                    text = text.strip()\n",
    "                    do_txt_match = re.search(r'\"([^\"]*)\"', text)\n",
    "                    if do_txt_match:\n",
    "                        do_txt = do_txt_match.group(1)\n",
    "                        data.append({'controller_url': controller_url.strip(), 'controller_file': controller_file.strip(), 'Do_txt': do_txt.strip()})\n",
    "            else:\n",
    "                do_txt_match = re.search(r'\"([^\"]*)\"', snd_part)\n",
    "                if do_txt_match:\n",
    "                    do_txt = do_txt_match.group(1)\n",
    "                    data.append({'controller_url': controller_url.strip(), 'controller_file': controller_file.strip(), 'Do_txt': do_txt.strip()})\n",
    "        \n",
    "        elif '@Resource' in snd_part:\n",
    "            resource_match = re.search(r'\"([^\"]*)\"', snd_part)\n",
    "            if resource_match:\n",
    "                resource_name = resource_match.group(1)\n",
    "                data2.append({'controller_url': controller_url.strip(), 'controller_file': controller_file.strip(), 'resource_name': resource_name.strip()})\n",
    "                \n",
    "# 데이터를 데이터프레임으로 변환합니다.\n",
    "df = pd.DataFrame(data)\n",
    "df2 = pd.DataFrame(data2)\n",
    "\n",
    "df = df.drop_duplicates()\n",
    "df2 = df2.drop_duplicates()\n",
    "\n",
    "# 데이터프레임을 출력합니다.\n",
    "# print(df)\n",
    "df.to_csv('./csv/controller_do.csv', encoding=\"utf-8\", index=False)\n",
    "df2.to_csv('./csv/controller_resource.csv', encoding=\"utf-8\", index=False)"
   ]
  },
  {
   "cell_type": "markdown",
   "id": "08469400-c063-42b5-9cb6-2009f5426188",
   "metadata": {
    "tags": []
   },
   "source": [
    "## 2-2. _ServiceImpl.java 파일에서 \n",
    "### (1) @Service 포함 텍스트 추출 Controller(@Resource)- serviceImpl (@Service)\n",
    "### (2) @Resource 포함 텍스트 추출 serviceImpl(@Resource)- DAO(@Repository)"
   ]
  },
  {
   "cell_type": "code",
   "execution_count": 6,
   "id": "073bd1ea-40d4-40fe-8bf7-8fa4bca64f9e",
   "metadata": {
    "tags": []
   },
   "outputs": [],
   "source": [
    "# _ServiceImpl 파일을 읽어서 정제 후  @Resource 포함 텍스트와 serviceImpl csv 파일로 저장\n",
    "extension = 'ServiceImpl.java'\n",
    "regex_keywords = [r'@Service\\(.*\\)', r'implements', r'@Resource\\(.*\\)']\n",
    "\n",
    "matching_files = find_files_keywords(extension, regex_keywords, '')\n",
    "\n",
    "output_file_path = './txt/serviceImpl_list.txt'\n",
    "\n",
    "save_txt_file(output_file_path, matching_files )\n",
    "\n",
    "# 빈 리스트를 생성하여 데이터 저장 준비\n",
    "data = []\n",
    "data2 = []\n",
    "data3 = []\n",
    "\n",
    "# 텍스트 파일을 한 줄씩 읽어옵니다.\n",
    "with open(output_file_path, \"r\", encoding=\"utf-8\") as file:\n",
    "    for line in file:\n",
    "        parts = line.split(r' || ')\n",
    "        serviceImpl_url = parts[0].replace(r'D:\\project\\workspace\\sanhakin', '').replace('\\\\', '/')\n",
    "\n",
    "        #경로와 파일이름 분리\n",
    "        serviceImpl_path, serviceImpl_file = os.path.split(serviceImpl_url)\n",
    "        snd_part = parts[1]\n",
    "        # serviceImpl- Controller\n",
    "        if '@Service' in snd_part:\n",
    "            name_match = re.search(r'\"([^\"]*)\"', snd_part)\n",
    "            if name_match:\n",
    "                service_name = name_match.group(1)\n",
    "                data.append({'serviceImpl_url': serviceImpl_url.strip(), 'serviceImpl_file': serviceImpl_file.strip(), 'service_name': service_name.strip()})\n",
    "        # serviceImpl- Service    \n",
    "        elif 'implements' in snd_part:    \n",
    "            name_match = re.search(r'implements\\s+([^\\s{]+)\\s*{', snd_part)\n",
    "            if name_match:\n",
    "                implements_name = name_match.group(1)\n",
    "                data2.append({'serviceImpl_url': serviceImpl_url.strip(), 'serviceImpl_file': serviceImpl_file.strip(), 'implements_name': implements_name.strip()})\n",
    "                \n",
    "        # serviceImpl- DAO\n",
    "        elif '@Resource' in snd_part:\n",
    "            resource_match = re.search(r'\"([^\"]*)\"', snd_part)\n",
    "            if resource_match:\n",
    "                resource_name = resource_match.group(1)\n",
    "                data3.append({'serviceImpl_url': serviceImpl_url.strip(), 'serviceImpl_file': serviceImpl_file.strip(), 'resource_name': resource_name.strip()})\n",
    "                \n",
    "# 데이터를 데이터프레임으로 변환합니다.\n",
    "df = pd.DataFrame(data)\n",
    "df2 = pd.DataFrame(data2)\n",
    "df3 = pd.DataFrame(data3)\n",
    "\n",
    "df = df.drop_duplicates()\n",
    "df2 = df2.drop_duplicates()\n",
    "df3 = df3.drop_duplicates()\n",
    "\n",
    "# 데이터프레임을 출력합니다.\n",
    "df.to_csv('./csv/serviceImpl_service.csv', encoding=\"utf-8\", index=False)\n",
    "df2.to_csv('./csv/serviceImpl_impl.csv', encoding=\"utf-8\", index=False)\n",
    "df3.to_csv('./csv/serviceImpl_resource.csv', encoding=\"utf-8\", index=False)"
   ]
  },
  {
   "cell_type": "markdown",
   "id": "f57ef346-85f6-4e93-900a-0ba74592af3b",
   "metadata": {},
   "source": [
    "## 3. _DAO.java 파일에서 \n",
    "### (1) sql_id 텍스트(\" \"로 묶인 문자열) 추출 \n",
    "### (2) @Repository 추출  DAO(@Repository) - serviceImpl(@Resource)\n",
    "### findstr /s /i /r /c:\"\\\".*\\\"\" \"D:\\sanhakin\\src\\main\\*DAO.java\" | findstr /v /i /c:\"@SuppressWarnings\" | findstr /v /i /c:\"@Repository\"  > DAO_sql.txt "
   ]
  },
  {
   "cell_type": "code",
   "execution_count": 7,
   "id": "fc5cd062-788e-4cf5-9288-4e2c4e620c5d",
   "metadata": {
    "tags": []
   },
   "outputs": [],
   "source": [
    "# DAO_sql.txt(최초 search 목록에서 eyeCheck로 일부 정제) 파일을 읽어서 정제 후 xml명과 do 포함 텍스트를 csv 파일로 저장\n",
    "# D:\\sanhakin\\src\\main\\java\\com\\wti\\admin\\bizDvr\\dao\\BudgetDvrRqstSttnDAO.java:        return (List<Map>) list(\"budgetDvrRqstSttnDAO.selectBudgetDvrRqstSttnList\", input);\n",
    "extension = 'DAO.java'\n",
    "regex_keywords = [r'\".*\\\"']\n",
    "exclude_keywords = ['@SuppressWarnings']\n",
    "\n",
    "matching_files = find_files_keywords(extension, regex_keywords, exclude_keywords)\n",
    "\n",
    "output_file_path = './txt/DAO_sql.txt'\n",
    "\n",
    "save_txt_file(output_file_path, matching_files )  \n",
    "\n",
    "data = []\n",
    "data2 = []\n",
    "\n",
    "# 텍스트 파일을 한 줄씩 읽어옵니다.\n",
    "with open(output_file_path, \"r\", encoding=\"utf-8\") as file:\n",
    "    for line in file:\n",
    "        parts = line.split(r' || ')\n",
    "        DAO_url = parts[0].replace(r'D:\\project\\workspace\\sanhakin', '').replace('\\\\', '/')\n",
    "\n",
    "        #경로와 파일이름 분리\n",
    "        DAO_path, DAO_file = os.path.split(DAO_url)\n",
    "        snd_part = parts[1]\n",
    "        \n",
    "        # serviceImpl- DAO\n",
    "        if '@Repository' in snd_part:\n",
    "            name_match = re.search(r'\"([^\"]*)\"', snd_part)\n",
    "            if name_match:\n",
    "                repository_name = name_match.group(1)\n",
    "                data.append({'DAO_url': DAO_url.strip(), 'DAO_file': DAO_file.strip(), 'repository_name': repository_name.strip()})\n",
    "        # DAO - Sql.xml \n",
    "        else:\n",
    "            sqlID_match = re.search(r'\"([^\"]*)\"', snd_part)\n",
    "            if sqlID_match:\n",
    "                sqlID = sqlID_match.group(1)\n",
    "                data2.append({'DAO_url': DAO_url.strip(), 'DAO_file': DAO_file.strip(), 'sqlID': sqlID.strip()})\n",
    "  \n",
    "# 데이터를 데이터프레임으로 변환합니다.\n",
    "df = pd.DataFrame(data)\n",
    "df2 = pd.DataFrame(data2)\n",
    "\n",
    "df = df.drop_duplicates()\n",
    "df2 = df2.drop_duplicates()\n",
    "\n",
    "# 데이터프레임을 출력합니다.\n",
    "# print(df)\n",
    "df.to_csv('./csv/DAO_repository.csv', encoding=\"utf-8\", index=False)\n",
    "df2.to_csv('./csv/DAO_sqlID.csv', encoding=\"utf-8\", index=False)"
   ]
  },
  {
   "cell_type": "markdown",
   "id": "4d8a524a-c855-4fbc-9849-1b38f14f0826",
   "metadata": {},
   "source": [
    "## 4. _SQL.xml 파일에서 sqlID 추출 ( \"<\" ,\"id=\" ,\">\" 포함하는 문자열)\n",
    "### SQLxml_sqlID.txt  ( sqlxml - sqlID )\n",
    "\n",
    "### findstr /s /r /c:\"\\<.*\\s*id\\s*\\=\\s*\\>\" D:\\sanhakin\\src\\main\\*_SQL.xml  > SQLxml_sqlID.txt"
   ]
  },
  {
   "cell_type": "code",
   "execution_count": 8,
   "id": "07f188b7-db14-4011-a098-cfb672b2fddb",
   "metadata": {
    "tags": []
   },
   "outputs": [],
   "source": [
    "extension = '_SQL.xml'\n",
    "regex_keywords = [r'<\\s*[^>]*\\s*id\\s*=\\s*[^>]*>']\n",
    "exclude_keywords = []\n",
    "\n",
    "matching_files = find_files_keywords(extension, regex_keywords, exclude_keywords)\n",
    "\n",
    "output_file_path = './txt/SQLxml_sqlID.txt'\n",
    "\n",
    "save_txt_file(output_file_path, matching_files ) \n",
    "\n",
    "data = []\n",
    "reg_txt = r'id\\s*=\\s*\"'\n",
    "# 텍스트 파일을 한 줄씩 읽어옵니다.\n",
    "with open(output_file_path, \"r\", encoding=\"utf-8\") as file:\n",
    "\n",
    "    for line in file:\n",
    "        parts = line.split(r' || ')\n",
    "        SQLxml_url = parts[0].replace(r'D:\\project\\workspace\\sanhakin', '').replace('\\\\', '/')\n",
    "\n",
    "        snd_part = parts[1]\n",
    "        match = re.search(reg_txt + r'(.*?)\\\"', snd_part)\n",
    "        if match:\n",
    "            sqlID = match.group(1)\n",
    "            data.append({'SQLxml_url': SQLxml_url.strip(), 'sqlID': sqlID.strip()})\n",
    "\n",
    "# 데이터를 데이터프레임으로 변환합니다.\n",
    "df = pd.DataFrame(data)\n",
    "df = df.drop_duplicates()\n",
    "\n",
    "# 데이터프레임을 출력합니다.\n",
    "# print(df)\n",
    "df.to_csv('./csv/SQLxml_sqlID.csv', encoding=\"utf-8\", index=False)"
   ]
  },
  {
   "cell_type": "markdown",
   "id": "4bac4c63-8b7a-42be-88ca-aff6fe586b1d",
   "metadata": {},
   "source": [
    "## 5. txt 파일 읽어서 csv 파일로 저장 (데이터 전처리)\n",
    "### service, serviceImpl, DAO, Controller, _SQL.xml, 화면 xml\n",
    "#### [ dir /s /b D:\\sanhakin\\src\\main\\*service.java > service.txt  ]\n",
    "#### [ dir /s /b D:\\sanhakin\\src\\main\\*serviceImpl.java > serviceImpl.txt ]\n",
    "#### [ dir /s /b D:\\sanhakin\\src\\main\\*DAO.java > DAO.txt ]\n",
    "#### [ dir /s /b D:\\sanhakin\\src\\main\\*Controller.java > Controller.txt ]\n",
    "#### [ dir /s /b D:\\sanhakin\\src\\main\\*_SQl.xml > slqXml.txt ]\n",
    "#### [ dir /s /b D:\\sanhakin\\src\\main\\webapp\\*.xml > xm.txt ]"
   ]
  },
  {
   "cell_type": "code",
   "execution_count": 9,
   "id": "a2e1ecba-7510-40a4-a0d5-826ed56e7822",
   "metadata": {
    "tags": []
   },
   "outputs": [],
   "source": [
    "# 파일 목록 가져오기\n",
    "def find_files_list(extension, file_type, directory=r'D:\\project\\workspace\\sanhakin\\src\\main'):\n",
    "    \n",
    "    matching_files = []\n",
    "    if file_type == 'xml':\n",
    "        directory = r'D:\\project\\workspace\\sanhakin\\src\\main\\webapp'\n",
    "        \n",
    "    for root, dirs, files in os.walk(directory):\n",
    "        for file in files:\n",
    "            if file.endswith(extension):\n",
    "                file_url = os.path.join(root, file)\n",
    "                file_path, file_name  = os.path.split(file_url)\n",
    "                file_url = file_url.replace(r\"D:\\project\\workspace\\sanhakin\", \"\").replace('\\\\','/')\n",
    "                matching_files.append({'file_url': file_url, 'file_name': file_name, 'file_type': file_type})\n",
    "                # print(\"file_path: \" + file_path +\"  extension :\" + extension + \"  file_type :\" +file_type)\n",
    "    return matching_files  "
   ]
  },
  {
   "cell_type": "code",
   "execution_count": 10,
   "id": "1eb05f8f-bc90-434a-9a07-6e58e4be1da9",
   "metadata": {
    "tags": []
   },
   "outputs": [],
   "source": [
    "import csv\n",
    "extension_arr = ['Service.java', 'ServiceImpl.java', 'DAO.java', 'Controller.java','_SQL.xml', '.xml']\n",
    "file_tys = ['service', 'Impl', 'dao', 'ctrl', 'sql', 'xml']\n",
    "output_file_path = './csv/src_files_test.csv'\n",
    "\n",
    "all_matching_files = []\n",
    "for i, extension in enumerate(extension_arr):\n",
    "    matching_files = find_files_list(extension, file_tys[i])\n",
    "    all_matching_files.extend(matching_files)\n",
    "    \n",
    "# Save the data to a CSV file\n",
    "with open(output_file_path, 'w', newline='', encoding='utf-8') as csvfile:\n",
    "    fieldnames = ['file_url', 'file_name', 'file_type']\n",
    "    writer = csv.DictWriter(csvfile, fieldnames=fieldnames)\n",
    "\n",
    "    # Write the header\n",
    "    writer.writeheader()\n",
    "        \n",
    "    # Write the data\n",
    "    for row in all_matching_files:\n",
    "        writer.writerow(row)\n"
   ]
  },
  {
   "cell_type": "code",
   "execution_count": null,
   "id": "7cb894c7-09dd-4060-a085-f1729ffa4679",
   "metadata": {
    "scrolled": true,
    "tags": []
   },
   "outputs": [],
   "source": [
    "# import csv\n",
    "\n",
    "# txt_paths = ['./txt/service.txt', './txt/serviceImpl.txt', './txt/DAO.txt', './txt/Controller.txt', './txt/slqXml.txt', './txt/xml.txt']\n",
    "# csv_paths = ['./csv/service.csv', './csv/serviceImpl.csv', './csv/DAO.csv', './csv/Controller.csv', './csv/slqXml.csv', './csv/xml.csv']\n",
    "# file_tys = ['service', 'impl', 'dao', 'ctrl', 'sql', 'xml']\n",
    "\n",
    "# for i, (txt_path, csv_path) in enumerate(zip(txt_paths, csv_paths)):\n",
    "#     file_ty = file_tys[i]\n",
    "    \n",
    "#     # Read the text file and write its contents to a CSV file\n",
    "#     with open(txt_path, 'r') as txt_file, open(csv_path, 'w', newline='') as csv_file:\n",
    "#         # Assuming your text file has lines with values separated by spaces\n",
    "#         reader = csv.reader(txt_file, delimiter=' ')\n",
    "#         writer = csv.writer(csv_file)\n",
    "        \n",
    "#         # header = [prefix + '_path', 'java_file']\n",
    "#         header = ['file_url', 'file_path', 'file_name', 'file_ty']\n",
    "#         writer.writerow(header)\n",
    "        \n",
    "#         # Write data from the text file to the CSV file\n",
    "#         for row in reader:\n",
    "#             # sevice.java 경로 추출하기\n",
    "#             java_url = row[0].replace(\"D:\\\\sanhakin\\\\\", \"\").replace('\\\\','/')\n",
    "#             #경로와 파일이름 분리\n",
    "#             java_path, java_file  = os.path.split(java_url)\n",
    "#             java_path = os.path.dirname(java_path)\n",
    "\n",
    "#             # java_path_file = java_url.split(split_txt)\n",
    "#             # if len(java_path_file) == 2:\n",
    "#             #     java_path, java_file = java_path_file\n",
    "#             # else:\n",
    "#             #     # Handle the case where the split didn't result in two parts\n",
    "#             #     java_path, java_file = java_path_file[0], None\n",
    "\n",
    "#             writer.writerow([java_url, java_path, java_file, file_ty])\n",
    "            \n",
    "#     print(f\"Conversion from {txt_path} to {csv_path} completed.\")"
   ]
  },
  {
   "cell_type": "markdown",
   "id": "864ed9c3-d394-479f-a2e6-acb391b26722",
   "metadata": {},
   "source": [
    "## 5-2 관리대상 파일 하나로 합쳐서 csv 파일로 저장 --> 데이터베이스 wtc_src_file table에 저장"
   ]
  },
  {
   "cell_type": "code",
   "execution_count": 11,
   "id": "46d16179-a735-4f07-a1ac-4d3de5a220b0",
   "metadata": {
    "editable": true,
    "slideshow": {
     "slide_type": ""
    },
    "tags": []
   },
   "outputs": [],
   "source": [
    "src_files_df = pd.read_csv(\"./csv/src_files_test.csv\", encoding=\"utf-8\") #\n",
    "src_files_df = src_files_df.drop_duplicates()\n",
    "src_files_df.fillna('')\n",
    "\n",
    "src_files_df.sort_values(by=['file_url','file_type'], ascending=False)\n",
    "\n",
    "# 'file_id' 컬럼 추가하고 규칙에 따라 file_id 값 부여\n",
    "src_files_df['file_id'] = ['SRC_{:06}'.format(i+1) for i in range(len(src_files_df))]\n",
    "src_files_df.to_csv('./csv/src_files.csv', encoding=\"utf-8\", index=False) # wtc_src_file table에 저장"
   ]
  },
  {
   "cell_type": "code",
   "execution_count": 23,
   "id": "35e5647a-6f8a-4ddd-8705-71495d5bffe2",
   "metadata": {},
   "outputs": [
    {
     "data": {
      "text/html": [
       "<div>\n",
       "<style scoped>\n",
       "    .dataframe tbody tr th:only-of-type {\n",
       "        vertical-align: middle;\n",
       "    }\n",
       "\n",
       "    .dataframe tbody tr th {\n",
       "        vertical-align: top;\n",
       "    }\n",
       "\n",
       "    .dataframe thead th {\n",
       "        text-align: right;\n",
       "    }\n",
       "</style>\n",
       "<table border=\"1\" class=\"dataframe\">\n",
       "  <thead>\n",
       "    <tr style=\"text-align: right;\">\n",
       "      <th></th>\n",
       "      <th>file_url</th>\n",
       "      <th>file_name</th>\n",
       "      <th>file_type</th>\n",
       "      <th>file_id</th>\n",
       "    </tr>\n",
       "  </thead>\n",
       "  <tbody>\n",
       "    <tr>\n",
       "      <th>0</th>\n",
       "      <td>/src/main/java/com/wti/admin/bizDvr/service/Bu...</td>\n",
       "      <td>BudgetDvrRqstSttnService.java</td>\n",
       "      <td>service</td>\n",
       "      <td>SRC_000001</td>\n",
       "    </tr>\n",
       "    <tr>\n",
       "      <th>1</th>\n",
       "      <td>/src/main/java/com/wti/admin/bizMng/dbMng/serv...</td>\n",
       "      <td>BudgetDvrService.java</td>\n",
       "      <td>service</td>\n",
       "      <td>SRC_000002</td>\n",
       "    </tr>\n",
       "    <tr>\n",
       "      <th>2</th>\n",
       "      <td>/src/main/java/com/wti/admin/bizMng/dbMng/serv...</td>\n",
       "      <td>JoinStdnExcelRegService.java</td>\n",
       "      <td>service</td>\n",
       "      <td>SRC_000003</td>\n",
       "    </tr>\n",
       "    <tr>\n",
       "      <th>3</th>\n",
       "      <td>/src/main/java/com/wti/admin/bizMng/dbMng/serv...</td>\n",
       "      <td>StdnRegExcelRegInfoService.java</td>\n",
       "      <td>service</td>\n",
       "      <td>SRC_000004</td>\n",
       "    </tr>\n",
       "    <tr>\n",
       "      <th>4</th>\n",
       "      <td>/src/main/java/com/wti/admin/bizMng/histMng/se...</td>\n",
       "      <td>HistInqrService.java</td>\n",
       "      <td>service</td>\n",
       "      <td>SRC_000005</td>\n",
       "    </tr>\n",
       "    <tr>\n",
       "      <th>5</th>\n",
       "      <td>/src/main/java/com/wti/admin/bizMng/histMng/se...</td>\n",
       "      <td>HistMngExcelRegService.java</td>\n",
       "      <td>service</td>\n",
       "      <td>SRC_000006</td>\n",
       "    </tr>\n",
       "    <tr>\n",
       "      <th>6</th>\n",
       "      <td>/src/main/java/com/wti/admin/bizMng/histMng/se...</td>\n",
       "      <td>HistMngService.java</td>\n",
       "      <td>service</td>\n",
       "      <td>SRC_000007</td>\n",
       "    </tr>\n",
       "    <tr>\n",
       "      <th>7</th>\n",
       "      <td>/src/main/java/com/wti/admin/bizMng/histMng/se...</td>\n",
       "      <td>HistMngWhlService.java</td>\n",
       "      <td>service</td>\n",
       "      <td>SRC_000008</td>\n",
       "    </tr>\n",
       "    <tr>\n",
       "      <th>8</th>\n",
       "      <td>/src/main/java/com/wti/admin/bizMng/hmpyLinkMn...</td>\n",
       "      <td>HmpyLinkMngWhlExcelRegService.java</td>\n",
       "      <td>service</td>\n",
       "      <td>SRC_000009</td>\n",
       "    </tr>\n",
       "    <tr>\n",
       "      <th>9</th>\n",
       "      <td>/src/main/java/com/wti/admin/bizMng/hmpyLinkMn...</td>\n",
       "      <td>HmpyLinkMngWhlService.java</td>\n",
       "      <td>service</td>\n",
       "      <td>SRC_000010</td>\n",
       "    </tr>\n",
       "  </tbody>\n",
       "</table>\n",
       "</div>"
      ],
      "text/plain": [
       "                                            file_url  \\\n",
       "0  /src/main/java/com/wti/admin/bizDvr/service/Bu...   \n",
       "1  /src/main/java/com/wti/admin/bizMng/dbMng/serv...   \n",
       "2  /src/main/java/com/wti/admin/bizMng/dbMng/serv...   \n",
       "3  /src/main/java/com/wti/admin/bizMng/dbMng/serv...   \n",
       "4  /src/main/java/com/wti/admin/bizMng/histMng/se...   \n",
       "5  /src/main/java/com/wti/admin/bizMng/histMng/se...   \n",
       "6  /src/main/java/com/wti/admin/bizMng/histMng/se...   \n",
       "7  /src/main/java/com/wti/admin/bizMng/histMng/se...   \n",
       "8  /src/main/java/com/wti/admin/bizMng/hmpyLinkMn...   \n",
       "9  /src/main/java/com/wti/admin/bizMng/hmpyLinkMn...   \n",
       "\n",
       "                            file_name file_type     file_id  \n",
       "0       BudgetDvrRqstSttnService.java   service  SRC_000001  \n",
       "1               BudgetDvrService.java   service  SRC_000002  \n",
       "2        JoinStdnExcelRegService.java   service  SRC_000003  \n",
       "3     StdnRegExcelRegInfoService.java   service  SRC_000004  \n",
       "4                HistInqrService.java   service  SRC_000005  \n",
       "5         HistMngExcelRegService.java   service  SRC_000006  \n",
       "6                 HistMngService.java   service  SRC_000007  \n",
       "7              HistMngWhlService.java   service  SRC_000008  \n",
       "8  HmpyLinkMngWhlExcelRegService.java   service  SRC_000009  \n",
       "9          HmpyLinkMngWhlService.java   service  SRC_000010  "
      ]
     },
     "execution_count": 23,
     "metadata": {},
     "output_type": "execute_result"
    }
   ],
   "source": [
    "src_files_df.head(10)"
   ]
  },
  {
   "cell_type": "markdown",
   "id": "32205914-1c67-4b88-8bd5-3a7b579fd3aa",
   "metadata": {},
   "source": [
    "## 6. merge 파일별 menu_id 맵핑하기\n",
    "### menuID_xml   xml_do  controller_do   DAO_sqlID   SQLxml_sqlID"
   ]
  },
  {
   "cell_type": "code",
   "execution_count": 12,
   "id": "7dfcacfb-7b2f-47fe-9b09-170a01c06860",
   "metadata": {
    "editable": true,
    "slideshow": {
     "slide_type": ""
    },
    "tags": []
   },
   "outputs": [],
   "source": [
    "# controller RequestMap 과 xml 화면에서 submition 의 .do 와 맵핑\n",
    "controller_do = pd.read_csv(\"./csv/controller_do.csv\", encoding=\"utf-8\") #'controller_url', 'Do_txt'\n",
    "xml_do = pd.read_csv(\"./csv/xml_do.csv\", encoding=\"utf-8\")               # xml_nm', 'Do_txt\n",
    "controller_xml_df = pd.merge(controller_do, xml_do, on=['Do_txt'], how='inner')\n",
    "controller_xml_df = controller_xml_df.drop_duplicates(subset=['controller_url','xml_url' ]) \n",
    "\n",
    "# WTC_MENU 테이블에서 MENU_URL이 null이 아닌 데이터 추출해서 menu_xml.csv 저장\n",
    "menuID_xml = pd.read_csv(\"./csv/menu_xml.csv\", encoding=\"utf-8\")\n",
    "xml_Inxml = pd.read_csv(\"./csv/xml_Inxml.csv\", encoding=\"utf-8\")\n",
    "\n",
    "#화면 내에서 콜하는 xml 목록에서 메인xml의 menu_id를 찾아서 맵핑\n",
    "inXml_df = pd.merge(xml_Inxml, menuID_xml, on=['xml_url'], how='inner')[['menu_id','inXml']]\n",
    "inXml_df.rename(columns={'inXml': 'xml_url'}, inplace = True)\n",
    "\n",
    "# 1. xml - menu_id\n",
    "merge_xml_menu_df =  pd.concat([menuID_xml, inXml_df], ignore_index=True)\n",
    "merge_xml_menu_df = merge_xml_menu_df.drop_duplicates()\n",
    "\n",
    "# menu_id 에 등록된 화면 xml 과 controller_xml_df의 xml 과 맵핑\n",
    "# 2. controller 와 xml 파일을 .do로 연결하고 xml의 menu_id를 controller 와 맵핑\n",
    "merge_xml_ctrl = pd.merge( controller_xml_df, merge_xml_menu_df, on='xml_url', how='left')\n",
    "merge_xml_ctrl.dropna(subset = ['menu_id'], inplace=True)\n",
    "ctrl_menu_df = merge_xml_ctrl[['menu_id','controller_url','controller_file']] #549 rows\n",
    "ctrl_menu_df = ctrl_menu_df.drop_duplicates() #349 rows"
   ]
  },
  {
   "cell_type": "code",
   "execution_count": 13,
   "id": "9df1c59d-224d-4cbf-9cdd-56469ad34c18",
   "metadata": {
    "tags": []
   },
   "outputs": [],
   "source": [
    "# 3. serviceImpl - menu_id\n",
    "controller_resource = pd.read_csv(\"./csv/controller_resource.csv\", encoding=\"utf-8\")\n",
    "serviceImpl_service = pd.read_csv(\"./csv/serviceImpl_service.csv\", encoding=\"utf-8\")\n",
    "\n",
    "serviceImpl_ctrl = pd.merge( controller_resource, serviceImpl_service, left_on='resource_name',right_on='service_name', how = 'inner')\n",
    "serviceImpl_menu = pd.merge( serviceImpl_ctrl, ctrl_menu_df, on = 'controller_url', how = 'left') \n",
    "serviceImpl_menu.dropna(subset = ['menu_id'], inplace=True)\n",
    "serviceImpl_menu_df = serviceImpl_menu.drop_duplicates(subset=['menu_id','controller_url' ])[['menu_id','serviceImpl_url','serviceImpl_file']] #315 rows\n"
   ]
  },
  {
   "cell_type": "code",
   "execution_count": 14,
   "id": "85af2a2c-8d22-4b3f-8793-ff0784aad8ca",
   "metadata": {},
   "outputs": [
    {
     "data": {
      "text/html": [
       "<div>\n",
       "<style scoped>\n",
       "    .dataframe tbody tr th:only-of-type {\n",
       "        vertical-align: middle;\n",
       "    }\n",
       "\n",
       "    .dataframe tbody tr th {\n",
       "        vertical-align: top;\n",
       "    }\n",
       "\n",
       "    .dataframe thead th {\n",
       "        text-align: right;\n",
       "    }\n",
       "</style>\n",
       "<table border=\"1\" class=\"dataframe\">\n",
       "  <thead>\n",
       "    <tr style=\"text-align: right;\">\n",
       "      <th></th>\n",
       "      <th>menu_id</th>\n",
       "      <th>serviceImpl_url</th>\n",
       "      <th>serviceImpl_file</th>\n",
       "    </tr>\n",
       "  </thead>\n",
       "  <tbody>\n",
       "    <tr>\n",
       "      <th>0</th>\n",
       "      <td>MENU0000000237</td>\n",
       "      <td>/src/main/java/com/wti/admin/bizDvr/service/Bu...</td>\n",
       "      <td>BudgetDvrRqstSttnServiceImpl.java</td>\n",
       "    </tr>\n",
       "    <tr>\n",
       "      <th>1</th>\n",
       "      <td>MENU0000000273</td>\n",
       "      <td>/src/main/java/com/wti/admin/bizDvr/service/Bu...</td>\n",
       "      <td>BudgetDvrRqstSttnServiceImpl.java</td>\n",
       "    </tr>\n",
       "    <tr>\n",
       "      <th>2</th>\n",
       "      <td>MENU0000000274</td>\n",
       "      <td>/src/main/java/com/wti/admin/bizDvr/service/Bu...</td>\n",
       "      <td>BudgetDvrRqstSttnServiceImpl.java</td>\n",
       "    </tr>\n",
       "    <tr>\n",
       "      <th>3</th>\n",
       "      <td>MENU0000000233</td>\n",
       "      <td>/src/main/java/com/wti/admin/bizMng/dbMng/serv...</td>\n",
       "      <td>BudgetDvrServiceImpl.java</td>\n",
       "    </tr>\n",
       "    <tr>\n",
       "      <th>10</th>\n",
       "      <td>MENU0000000055</td>\n",
       "      <td>/src/main/java/com/wti/admin/bizMng/hmpyLinkMn...</td>\n",
       "      <td>HmpyLinkMngWhlServiceImpl.java</td>\n",
       "    </tr>\n",
       "    <tr>\n",
       "      <th>11</th>\n",
       "      <td>MENU0000000055</td>\n",
       "      <td>/src/main/java/com/wti/admin/bizMng/hmpyLinkMn...</td>\n",
       "      <td>HmpyLinkMngWhlExcelRegServiceImpl.java</td>\n",
       "    </tr>\n",
       "    <tr>\n",
       "      <th>12</th>\n",
       "      <td>MENU0000000132</td>\n",
       "      <td>/src/main/java/com/wti/admin/bizMng/mbrSttn/se...</td>\n",
       "      <td>MbrAdminRoleServiceImpl.java</td>\n",
       "    </tr>\n",
       "    <tr>\n",
       "      <th>13</th>\n",
       "      <td>MENU0000000132</td>\n",
       "      <td>/src/main/java/com/wti/admin/bizMng/mbrSttn/se...</td>\n",
       "      <td>MbrAdminRoleDetlServiceImpl.java</td>\n",
       "    </tr>\n",
       "    <tr>\n",
       "      <th>15</th>\n",
       "      <td>MENU0000000134</td>\n",
       "      <td>/src/main/java/com/wti/admin/bizMng/mbrSttn/se...</td>\n",
       "      <td>MbrDetlServiceImpl.java</td>\n",
       "    </tr>\n",
       "    <tr>\n",
       "      <th>16</th>\n",
       "      <td>MENU0000000131</td>\n",
       "      <td>/src/main/java/com/wti/admin/bizMng/mbrSttn/se...</td>\n",
       "      <td>MbrDetlServiceImpl.java</td>\n",
       "    </tr>\n",
       "  </tbody>\n",
       "</table>\n",
       "</div>"
      ],
      "text/plain": [
       "           menu_id                                    serviceImpl_url  \\\n",
       "0   MENU0000000237  /src/main/java/com/wti/admin/bizDvr/service/Bu...   \n",
       "1   MENU0000000273  /src/main/java/com/wti/admin/bizDvr/service/Bu...   \n",
       "2   MENU0000000274  /src/main/java/com/wti/admin/bizDvr/service/Bu...   \n",
       "3   MENU0000000233  /src/main/java/com/wti/admin/bizMng/dbMng/serv...   \n",
       "10  MENU0000000055  /src/main/java/com/wti/admin/bizMng/hmpyLinkMn...   \n",
       "11  MENU0000000055  /src/main/java/com/wti/admin/bizMng/hmpyLinkMn...   \n",
       "12  MENU0000000132  /src/main/java/com/wti/admin/bizMng/mbrSttn/se...   \n",
       "13  MENU0000000132  /src/main/java/com/wti/admin/bizMng/mbrSttn/se...   \n",
       "15  MENU0000000134  /src/main/java/com/wti/admin/bizMng/mbrSttn/se...   \n",
       "16  MENU0000000131  /src/main/java/com/wti/admin/bizMng/mbrSttn/se...   \n",
       "\n",
       "                          serviceImpl_file  \n",
       "0        BudgetDvrRqstSttnServiceImpl.java  \n",
       "1        BudgetDvrRqstSttnServiceImpl.java  \n",
       "2        BudgetDvrRqstSttnServiceImpl.java  \n",
       "3                BudgetDvrServiceImpl.java  \n",
       "10          HmpyLinkMngWhlServiceImpl.java  \n",
       "11  HmpyLinkMngWhlExcelRegServiceImpl.java  \n",
       "12            MbrAdminRoleServiceImpl.java  \n",
       "13        MbrAdminRoleDetlServiceImpl.java  \n",
       "15                 MbrDetlServiceImpl.java  \n",
       "16                 MbrDetlServiceImpl.java  "
      ]
     },
     "execution_count": 14,
     "metadata": {},
     "output_type": "execute_result"
    }
   ],
   "source": [
    "serviceImpl_menu_df.head(10)"
   ]
  },
  {
   "cell_type": "code",
   "execution_count": 21,
   "id": "e1343c3d-4f18-457e-807d-c83f46d2bb55",
   "metadata": {
    "tags": []
   },
   "outputs": [],
   "source": [
    "# 4. serviceImpl - service - menu_id\n",
    "serviceImpl_impl = pd.read_csv(\"./csv/serviceImpl_impl.csv\", encoding=\"utf-8\")\n",
    "\n",
    "service_menu_df = pd.merge( serviceImpl_menu_df, serviceImpl_impl, on='serviceImpl_file', how = 'inner')\n",
    "service_menu_df['implements_name'] = service_menu_df['implements_name'] + '.java'\n",
    "service_menu_df = service_menu_df[['menu_id','implements_name']] #315 rows\n",
    "\n",
    "service_menu_df = service_menu_df.rename(columns={'menu_id': 'menu_id', 'implements_name': 'service_file'})\n",
    "# service_menu_df['service_url'] = None"
   ]
  },
  {
   "cell_type": "code",
   "execution_count": 22,
   "id": "f3dd89a1-ec4b-4943-92b1-e4cc1bb6c81a",
   "metadata": {},
   "outputs": [],
   "source": [
    "# 5. DAO(Repository) - serviceImpl(Resource)\n",
    "serviceImpl_resource = pd.read_csv(\"./csv/serviceImpl_resource.csv\", encoding=\"utf-8\")\n",
    "DAO_repository = pd.read_csv(\"./csv/DAO_repository.csv\", encoding=\"utf-8\")\n",
    "\n",
    "# serviceImpl - DAO - menu_id\n",
    "DAO_serviceImpl = pd.merge( DAO_repository, serviceImpl_resource, left_on='repository_name',right_on='resource_name', how = 'inner')[['DAO_url','DAO_file','serviceImpl_url']]\n",
    "DAO_menu = pd.merge( DAO_serviceImpl, serviceImpl_menu, on='serviceImpl_url', how = 'left')[['menu_id','DAO_url','DAO_file']]\n",
    "DAO_menu.dropna(subset = ['menu_id'], inplace=True)\n",
    "DAO_menu_df = DAO_menu.drop_duplicates(subset=['menu_id','DAO_url' ]) #515 rows\n",
    "\n",
    "# 6. SQL.xml - menu_id\n",
    "# DAO 에 있는 sqlId 와 SQL.xml 에 있는 sqlId 맵핑\n",
    "DAO_sqlID = pd.read_csv(\"./csv/DAO_sqlID.csv\", encoding=\"utf-8\")         # DAO_url', 'slqID\n",
    "SQLxml_sqlID = pd.read_csv(\"./csv/SQLxml_sqlID.csv\", encoding=\"utf-8\")   # SQLxml_url', 'slqID'\n",
    "\n",
    "dao_sql_df = pd.merge(DAO_sqlID, SQLxml_sqlID, on=['sqlID'], how='inner')\n",
    "dao_sql_df = dao_sql_df.drop_duplicates(subset=['DAO_url','SQLxml_url' ])\n",
    "\n",
    "# sqlxml - DAO - menu_id\n",
    "sql_menu = pd.merge( DAO_menu_df, dao_sql_df, on='DAO_url', how='inner')[['menu_id','SQLxml_url','DAO_url']]\n",
    "sql_menu.dropna(subset = ['menu_id'], inplace=True)\n",
    "sql_menu_df = sql_menu.drop_duplicates(subset=['menu_id','SQLxml_url' ]) #628 rows"
   ]
  },
  {
   "cell_type": "code",
   "execution_count": 24,
   "id": "588ab4c9-13e3-4df2-be10-f5fe42947d40",
   "metadata": {
    "tags": []
   },
   "outputs": [],
   "source": [
    "# 1. xml\n",
    "merge_xml_menu_df['file_url'] = '/src/main/webapp' + merge_xml_menu_df['xml_url'] \n",
    "\n",
    "xml_fileid = pd.merge( merge_xml_menu_df, src_files_df, on = 'file_url', how = 'inner')[['menu_id','file_id']]\n",
    "xml_fileid_df = xml_fileid.drop_duplicates(subset=['menu_id','file_id' ])\n",
    "\n",
    "# 2. controller\n",
    "ctrl_fileid = pd.merge( ctrl_menu_df, src_files_df, left_on = 'controller_url', right_on = 'file_url',  how = 'inner')[['menu_id','file_id']]\n",
    "ctrl_fileid_df = ctrl_fileid.drop_duplicates(subset=['menu_id','file_id' ])\n",
    "\n",
    "# 3. serviceImpl_menu_df\n",
    "serviceImpl_fileid = pd.merge( serviceImpl_menu_df, src_files_df, left_on = 'serviceImpl_url', right_on = 'file_url',  how = 'left')[['menu_id','file_id']]\n",
    "serviceImpl_fileid_df = serviceImpl_fileid.drop_duplicates(subset=['menu_id','file_id' ])\n",
    "\n",
    "# 4. service_menu_df\n",
    "service_fileid = pd.merge( service_menu_df, src_files_df, left_on = 'service_file', right_on = 'file_name',  how = 'left')[['menu_id','file_id']]\n",
    "service_fileid_df = service_fileid.drop_duplicates(subset=['menu_id','file_id' ])\n",
    "\n",
    "# 5. DAO_menu_df\n",
    "DAO_fileid = pd.merge( DAO_menu_df, src_files_df, left_on = 'DAO_url', right_on = 'file_url',  how = 'left')[['menu_id','file_id']]\n",
    "DAO_fileid_df = DAO_fileid.drop_duplicates(subset=['menu_id','file_id' ])\n",
    "\n",
    "# 6. SQL_menu_df\n",
    "sql_fileid = pd.merge( sql_menu_df, src_files_df, left_on = 'SQLxml_url', right_on = 'file_url',  how = 'left')[['menu_id','file_id']]\n",
    "sql_fileid_df = sql_fileid.drop_duplicates(subset=['menu_id','file_id' ])"
   ]
  },
  {
   "cell_type": "code",
   "execution_count": 27,
   "id": "8857232c-b23b-4b6d-bcbf-010580410035",
   "metadata": {
    "tags": []
   },
   "outputs": [],
   "source": [
    "# 타입별 파일 모두 합쳐서 csv 파일로 저장하기\n",
    "menuID_fileID_df = pd.concat([xml_fileid_df, ctrl_fileid_df, serviceImpl_fileid_df, service_fileid_df, DAO_fileid_df,sql_fileid_df], ignore_index=True)\n",
    "menuID_fileID_df = menuID_fileID_df.drop_duplicates()\n",
    "menuID_fileID_df.to_csv('./csv/menuID_fileID.csv', encoding=\"utf-8\", index=False) "
   ]
  },
  {
   "cell_type": "code",
   "execution_count": 28,
   "id": "b6c7be10-fd8e-4e33-9993-0139e53343dd",
   "metadata": {
    "tags": []
   },
   "outputs": [
    {
     "data": {
      "text/plain": [
       "<bound method NDFrame.describe of              menu_id     file_id\n",
       "0     MENU0000000178  SRC_002207\n",
       "1     MENU0000000003  SRC_001875\n",
       "2     MENU0000000200  SRC_001798\n",
       "3     MENU0000000048  SRC_001617\n",
       "4     MENU0000000053  SRC_001608\n",
       "...              ...         ...\n",
       "2465  MENU0000000218  SRC_001516\n",
       "2466  MENU0000000274  SRC_001496\n",
       "2467  MENU0000000272  SRC_001496\n",
       "2468  MENU0000000261  SRC_001497\n",
       "2469  MENU0000000263  SRC_001497\n",
       "\n",
       "[2470 rows x 2 columns]>"
      ]
     },
     "execution_count": 28,
     "metadata": {},
     "output_type": "execute_result"
    }
   ],
   "source": [
    "menuID_fileID_df.describe"
   ]
  },
  {
   "cell_type": "code",
   "execution_count": null,
   "id": "d63c5f47-218f-424a-a326-4302830b1502",
   "metadata": {
    "tags": []
   },
   "outputs": [],
   "source": [
    "# print(merge_xml_menu_df.columns)\n",
    "# print(ctrl_menu_df.columns)\n",
    "# print(serviceImpl_menu_df.columns)\n",
    "# print(service_menu_df.columns)\n",
    "# print(DAO_menu_df.columns)\n",
    "# print(sql_menu_df.columns)"
   ]
  },
  {
   "cell_type": "code",
   "execution_count": 29,
   "id": "e7cb8eec-d959-4262-b708-fbc4985d40c9",
   "metadata": {
    "editable": true,
    "scrolled": true,
    "slideshow": {
     "slide_type": ""
    },
    "tags": []
   },
   "outputs": [
    {
     "data": {
      "text/html": [
       "<div>\n",
       "<style scoped>\n",
       "    .dataframe tbody tr th:only-of-type {\n",
       "        vertical-align: middle;\n",
       "    }\n",
       "\n",
       "    .dataframe tbody tr th {\n",
       "        vertical-align: top;\n",
       "    }\n",
       "\n",
       "    .dataframe thead th {\n",
       "        text-align: right;\n",
       "    }\n",
       "</style>\n",
       "<table border=\"1\" class=\"dataframe\">\n",
       "  <thead>\n",
       "    <tr style=\"text-align: right;\">\n",
       "      <th></th>\n",
       "      <th>menu_id</th>\n",
       "      <th>SQLxml_url</th>\n",
       "      <th>DAO_url</th>\n",
       "    </tr>\n",
       "  </thead>\n",
       "  <tbody>\n",
       "    <tr>\n",
       "      <th>count</th>\n",
       "      <td>628</td>\n",
       "      <td>628</td>\n",
       "      <td>628</td>\n",
       "    </tr>\n",
       "    <tr>\n",
       "      <th>unique</th>\n",
       "      <td>156</td>\n",
       "      <td>166</td>\n",
       "      <td>158</td>\n",
       "    </tr>\n",
       "    <tr>\n",
       "      <th>top</th>\n",
       "      <td>MENU0000000161</td>\n",
       "      <td>/src/main/resources/egovframework/sqlmap/com/c...</td>\n",
       "      <td>/src/main/java/com/wti/usr/aply/dao/SpclhsInst...</td>\n",
       "    </tr>\n",
       "    <tr>\n",
       "      <th>freq</th>\n",
       "      <td>23</td>\n",
       "      <td>53</td>\n",
       "      <td>70</td>\n",
       "    </tr>\n",
       "  </tbody>\n",
       "</table>\n",
       "</div>"
      ],
      "text/plain": [
       "               menu_id                                         SQLxml_url  \\\n",
       "count              628                                                628   \n",
       "unique             156                                                166   \n",
       "top     MENU0000000161  /src/main/resources/egovframework/sqlmap/com/c...   \n",
       "freq                23                                                 53   \n",
       "\n",
       "                                                  DAO_url  \n",
       "count                                                 628  \n",
       "unique                                                158  \n",
       "top     /src/main/java/com/wti/usr/aply/dao/SpclhsInst...  \n",
       "freq                                                   70  "
      ]
     },
     "execution_count": 29,
     "metadata": {},
     "output_type": "execute_result"
    }
   ],
   "source": [
    "sql_menu_df.describe()\n",
    "# print(serviceImpl_menu.info())\n",
    "# print(merge_xml_ctrl.info())\n",
    "# print(ctrl_resource_menu.info())\n",
    "# print(merge_xml_ctrl.groupby(['menu_id','controller_url']).count())\n",
    "# print(ctrl_resource_menu.groupby(['menu_id','controller_url']).count())"
   ]
  },
  {
   "cell_type": "markdown",
   "id": "03609de0-629d-41e8-beab-8de5c7cd7217",
   "metadata": {},
   "source": [
    "## 8-2 메뉴별 파일 합치고  src_files_df 과 merge 해서 file_id mapping하기"
   ]
  },
  {
   "cell_type": "code",
   "execution_count": 30,
   "id": "098fbdee-679f-4d5e-a882-81040bd97c15",
   "metadata": {},
   "outputs": [],
   "source": [
    "# merge_xml_menu_df 424 menu_id  xml_url  \n",
    "# ctrl_menu_df #1397         file_url  \tmenu_id\n",
    "# service_menu_df #1436      file_url  \tmenu_id\n",
    "# serviceImpl_menu_df #1544  file_url  \tmenu_id\n",
    "# DAO_menu_df #1408          file_url  \tmenu_id\n",
    "# sql_menu_df  #1556          DAO_url    DAO_path  SQLxml_url  menu_id"
   ]
  },
  {
   "cell_type": "code",
   "execution_count": 32,
   "id": "96bf3920-5cae-488f-a22a-26a630334afd",
   "metadata": {
    "tags": []
   },
   "outputs": [],
   "source": [
    "# menuID_java_df = pd.concat([ctrl_menu_df, service_menu_df, serviceImpl_menu_df, DAO_menu_df], ignore_index=True)\n",
    "# menuID_java_df.descrypt\n",
    "# menuID_java_df.head()\n",
    "\n",
    "# menuID_fileURL_df = pd.concat([merge_xml_menu_df, ctrl_menu_df, service_menu_df, serviceImpl_menu_df, DAO_menu_df, sql_menu_df], ignore_index=True)"
   ]
  },
  {
   "cell_type": "markdown",
   "id": "bd7ebbad-4066-4280-a9bd-9c1a946d7045",
   "metadata": {},
   "source": [
    "## [ 최종 ] 메뉴 ID 에 해당하는 파일목록과 commit log 파일 목록 join 해서 찾기\n",
    "### 파이썬에서 테스트하기"
   ]
  },
  {
   "cell_type": "code",
   "execution_count": 33,
   "id": "d98299d6-0c64-42ea-8036-3f3771790af9",
   "metadata": {
    "tags": []
   },
   "outputs": [],
   "source": [
    "# csv 파일 불러오기. 인코딩은 환경에 따라 변경 필요. 일반적으로 encoding= 'utf-8' 사용\n",
    "sanhakin_file_df = pd.read_csv(\"./csv/sanhakin_file.csv\", encoding=\"utf-8\") #java_url file_ty   menu_id   \n",
    "commit_info_df = pd.read_csv(\"./csv/commit_info.csv\", encoding=\"utf-8\") \n",
    "commit_file_info_df = pd.read_csv(\"./csv/commit_file_info.csv\", encoding=\"utf-8\")"
   ]
  },
  {
   "cell_type": "code",
   "execution_count": 34,
   "id": "039282bc-f801-4975-b44c-07215ae8a6ec",
   "metadata": {
    "tags": []
   },
   "outputs": [
    {
     "data": {
      "text/html": [
       "<div>\n",
       "<style scoped>\n",
       "    .dataframe tbody tr th:only-of-type {\n",
       "        vertical-align: middle;\n",
       "    }\n",
       "\n",
       "    .dataframe tbody tr th {\n",
       "        vertical-align: top;\n",
       "    }\n",
       "\n",
       "    .dataframe thead th {\n",
       "        text-align: right;\n",
       "    }\n",
       "</style>\n",
       "<table border=\"1\" class=\"dataframe\">\n",
       "  <thead>\n",
       "    <tr style=\"text-align: right;\">\n",
       "      <th></th>\n",
       "      <th>menu_id</th>\n",
       "      <th>menu_title</th>\n",
       "      <th>java_url</th>\n",
       "      <th>file_ty</th>\n",
       "    </tr>\n",
       "  </thead>\n",
       "  <tbody>\n",
       "    <tr>\n",
       "      <th>0</th>\n",
       "      <td>MENU0000000237</td>\n",
       "      <td>예산전용 신청현황</td>\n",
       "      <td>src/main/java/com/wti/admin/bizDvr/ctrl/Budget...</td>\n",
       "      <td>crtl</td>\n",
       "    </tr>\n",
       "    <tr>\n",
       "      <th>1</th>\n",
       "      <td>MENU0000000237</td>\n",
       "      <td>예산전용 신청현황</td>\n",
       "      <td>src/main/java/com/wti/admin/bizDvr/service/Bud...</td>\n",
       "      <td>service</td>\n",
       "    </tr>\n",
       "    <tr>\n",
       "      <th>2</th>\n",
       "      <td>MENU0000000237</td>\n",
       "      <td>예산전용 신청현황</td>\n",
       "      <td>src/main/java/com/wti/admin/bizDvr/service/Bud...</td>\n",
       "      <td>serviceImpl</td>\n",
       "    </tr>\n",
       "    <tr>\n",
       "      <th>3</th>\n",
       "      <td>MENU0000000237</td>\n",
       "      <td>예산전용 신청현황</td>\n",
       "      <td>src/main/java/com/wti/admin/bizDvr/dao/BudgetD...</td>\n",
       "      <td>DAO</td>\n",
       "    </tr>\n",
       "    <tr>\n",
       "      <th>4</th>\n",
       "      <td>MENU0000000237</td>\n",
       "      <td>예산전용 신청현황</td>\n",
       "      <td>src/main/resources/egovframework/sqlmap/com/ad...</td>\n",
       "      <td>sql</td>\n",
       "    </tr>\n",
       "    <tr>\n",
       "      <th>5</th>\n",
       "      <td>MENU0000000273</td>\n",
       "      <td>예산전용 신청현황</td>\n",
       "      <td>src/main/java/com/wti/admin/bizDvr/ctrl/Budget...</td>\n",
       "      <td>crtl</td>\n",
       "    </tr>\n",
       "    <tr>\n",
       "      <th>6</th>\n",
       "      <td>MENU0000000273</td>\n",
       "      <td>예산전용 신청현황</td>\n",
       "      <td>src/main/java/com/wti/admin/cndept/bdgtAplct/c...</td>\n",
       "      <td>crtl</td>\n",
       "    </tr>\n",
       "    <tr>\n",
       "      <th>7</th>\n",
       "      <td>MENU0000000273</td>\n",
       "      <td>예산전용 신청현황</td>\n",
       "      <td>src/main/java/com/wti/admin/bizDvr/service/Bud...</td>\n",
       "      <td>service</td>\n",
       "    </tr>\n",
       "    <tr>\n",
       "      <th>8</th>\n",
       "      <td>MENU0000000273</td>\n",
       "      <td>예산전용 신청현황</td>\n",
       "      <td>src/main/java/com/wti/admin/cndept/bdgtAplct/s...</td>\n",
       "      <td>service</td>\n",
       "    </tr>\n",
       "    <tr>\n",
       "      <th>9</th>\n",
       "      <td>MENU0000000273</td>\n",
       "      <td>예산전용 신청현황</td>\n",
       "      <td>src/main/java/com/wti/admin/bizDvr/service/Bud...</td>\n",
       "      <td>serviceImpl</td>\n",
       "    </tr>\n",
       "  </tbody>\n",
       "</table>\n",
       "</div>"
      ],
      "text/plain": [
       "          menu_id menu_title  \\\n",
       "0  MENU0000000237  예산전용 신청현황   \n",
       "1  MENU0000000237  예산전용 신청현황   \n",
       "2  MENU0000000237  예산전용 신청현황   \n",
       "3  MENU0000000237  예산전용 신청현황   \n",
       "4  MENU0000000237  예산전용 신청현황   \n",
       "5  MENU0000000273  예산전용 신청현황   \n",
       "6  MENU0000000273  예산전용 신청현황   \n",
       "7  MENU0000000273  예산전용 신청현황   \n",
       "8  MENU0000000273  예산전용 신청현황   \n",
       "9  MENU0000000273  예산전용 신청현황   \n",
       "\n",
       "                                            java_url      file_ty  \n",
       "0  src/main/java/com/wti/admin/bizDvr/ctrl/Budget...         crtl  \n",
       "1  src/main/java/com/wti/admin/bizDvr/service/Bud...      service  \n",
       "2  src/main/java/com/wti/admin/bizDvr/service/Bud...  serviceImpl  \n",
       "3  src/main/java/com/wti/admin/bizDvr/dao/BudgetD...          DAO  \n",
       "4  src/main/resources/egovframework/sqlmap/com/ad...          sql  \n",
       "5  src/main/java/com/wti/admin/bizDvr/ctrl/Budget...         crtl  \n",
       "6  src/main/java/com/wti/admin/cndept/bdgtAplct/c...         crtl  \n",
       "7  src/main/java/com/wti/admin/bizDvr/service/Bud...      service  \n",
       "8  src/main/java/com/wti/admin/cndept/bdgtAplct/s...      service  \n",
       "9  src/main/java/com/wti/admin/bizDvr/service/Bud...  serviceImpl  "
      ]
     },
     "execution_count": 34,
     "metadata": {},
     "output_type": "execute_result"
    }
   ],
   "source": [
    "sanhakin_file_df.head(10)"
   ]
  },
  {
   "cell_type": "code",
   "execution_count": 35,
   "id": "c5c03eb5-7b1a-4766-a0da-9384e9fb941a",
   "metadata": {
    "tags": []
   },
   "outputs": [
    {
     "ename": "KeyError",
     "evalue": "'commit_date'",
     "output_type": "error",
     "traceback": [
      "\u001b[1;31m---------------------------------------------------------------------------\u001b[0m",
      "\u001b[1;31mKeyError\u001b[0m                                  Traceback (most recent call last)",
      "Cell \u001b[1;32mIn[35], line 9\u001b[0m\n\u001b[0;32m      7\u001b[0m menu_selected_files \u001b[38;5;241m=\u001b[39m commit_file_info_df[commit_file_info_df[\u001b[38;5;124m'\u001b[39m\u001b[38;5;124mfile_path\u001b[39m\u001b[38;5;124m'\u001b[39m]\u001b[38;5;241m.\u001b[39misin(sanhakin_file_df[sanhakin_file_df[\u001b[38;5;124m'\u001b[39m\u001b[38;5;124mmenu_id\u001b[39m\u001b[38;5;124m'\u001b[39m] \u001b[38;5;241m==\u001b[39m \u001b[38;5;124m'\u001b[39m\u001b[38;5;124mMENU0000000160\u001b[39m\u001b[38;5;124m'\u001b[39m][\u001b[38;5;124m'\u001b[39m\u001b[38;5;124mjava_url\u001b[39m\u001b[38;5;124m'\u001b[39m])]\n\u001b[0;32m      8\u001b[0m selected_commit \u001b[38;5;241m=\u001b[39m commit_info_df[commit_info_df[\u001b[38;5;124m'\u001b[39m\u001b[38;5;124mcommit_id\u001b[39m\u001b[38;5;124m'\u001b[39m]\u001b[38;5;241m.\u001b[39misin(menu_selected_files[\u001b[38;5;124m'\u001b[39m\u001b[38;5;124mcommit_id\u001b[39m\u001b[38;5;124m'\u001b[39m])]\n\u001b[1;32m----> 9\u001b[0m \u001b[43mselected_commit\u001b[49m\u001b[38;5;241;43m.\u001b[39;49m\u001b[43msort_values\u001b[49m\u001b[43m(\u001b[49m\u001b[43mby\u001b[49m\u001b[38;5;241;43m=\u001b[39;49m\u001b[38;5;124;43m'\u001b[39;49m\u001b[38;5;124;43mcommit_date\u001b[39;49m\u001b[38;5;124;43m'\u001b[39;49m\u001b[43m,\u001b[49m\u001b[43m \u001b[49m\u001b[43mascending\u001b[49m\u001b[38;5;241;43m=\u001b[39;49m\u001b[38;5;28;43;01mFalse\u001b[39;49;00m\u001b[43m)\u001b[49m\n\u001b[0;32m     10\u001b[0m selected_commit\u001b[38;5;241m.\u001b[39mfillna(\u001b[38;5;124m'\u001b[39m\u001b[38;5;124m'\u001b[39m)\n",
      "File \u001b[1;32m~\\AppData\\Local\\Programs\\Python\\Python312\\Lib\\site-packages\\pandas\\core\\frame.py:7173\u001b[0m, in \u001b[0;36mDataFrame.sort_values\u001b[1;34m(self, by, axis, ascending, inplace, kind, na_position, ignore_index, key)\u001b[0m\n\u001b[0;32m   7167\u001b[0m     indexer \u001b[38;5;241m=\u001b[39m lexsort_indexer(\n\u001b[0;32m   7168\u001b[0m         keys, orders\u001b[38;5;241m=\u001b[39mascending, na_position\u001b[38;5;241m=\u001b[39mna_position, key\u001b[38;5;241m=\u001b[39mkey\n\u001b[0;32m   7169\u001b[0m     )\n\u001b[0;32m   7170\u001b[0m \u001b[38;5;28;01melif\u001b[39;00m \u001b[38;5;28mlen\u001b[39m(by):\n\u001b[0;32m   7171\u001b[0m     \u001b[38;5;66;03m# len(by) == 1\u001b[39;00m\n\u001b[1;32m-> 7173\u001b[0m     k \u001b[38;5;241m=\u001b[39m \u001b[38;5;28;43mself\u001b[39;49m\u001b[38;5;241;43m.\u001b[39;49m\u001b[43m_get_label_or_level_values\u001b[49m\u001b[43m(\u001b[49m\u001b[43mby\u001b[49m\u001b[43m[\u001b[49m\u001b[38;5;241;43m0\u001b[39;49m\u001b[43m]\u001b[49m\u001b[43m,\u001b[49m\u001b[43m \u001b[49m\u001b[43maxis\u001b[49m\u001b[38;5;241;43m=\u001b[39;49m\u001b[43maxis\u001b[49m\u001b[43m)\u001b[49m\n\u001b[0;32m   7175\u001b[0m     \u001b[38;5;66;03m# need to rewrap column in Series to apply key function\u001b[39;00m\n\u001b[0;32m   7176\u001b[0m     \u001b[38;5;28;01mif\u001b[39;00m key \u001b[38;5;129;01mis\u001b[39;00m \u001b[38;5;129;01mnot\u001b[39;00m \u001b[38;5;28;01mNone\u001b[39;00m:\n\u001b[0;32m   7177\u001b[0m         \u001b[38;5;66;03m# error: Incompatible types in assignment (expression has type\u001b[39;00m\n\u001b[0;32m   7178\u001b[0m         \u001b[38;5;66;03m# \"Series\", variable has type \"ndarray\")\u001b[39;00m\n",
      "File \u001b[1;32m~\\AppData\\Local\\Programs\\Python\\Python312\\Lib\\site-packages\\pandas\\core\\generic.py:1910\u001b[0m, in \u001b[0;36mNDFrame._get_label_or_level_values\u001b[1;34m(self, key, axis)\u001b[0m\n\u001b[0;32m   1908\u001b[0m     values \u001b[38;5;241m=\u001b[39m \u001b[38;5;28mself\u001b[39m\u001b[38;5;241m.\u001b[39maxes[axis]\u001b[38;5;241m.\u001b[39mget_level_values(key)\u001b[38;5;241m.\u001b[39m_values\n\u001b[0;32m   1909\u001b[0m \u001b[38;5;28;01melse\u001b[39;00m:\n\u001b[1;32m-> 1910\u001b[0m     \u001b[38;5;28;01mraise\u001b[39;00m \u001b[38;5;167;01mKeyError\u001b[39;00m(key)\n\u001b[0;32m   1912\u001b[0m \u001b[38;5;66;03m# Check for duplicates\u001b[39;00m\n\u001b[0;32m   1913\u001b[0m \u001b[38;5;28;01mif\u001b[39;00m values\u001b[38;5;241m.\u001b[39mndim \u001b[38;5;241m>\u001b[39m \u001b[38;5;241m1\u001b[39m:\n",
      "\u001b[1;31mKeyError\u001b[0m: 'commit_date'"
     ]
    }
   ],
   "source": [
    "# pd.set_option('display.max_colwidth', None)\n",
    "# 찾기\n",
    "# search_term = 'src/main/resources/egovframework/sqlmap/com/usr/aply/idtcag/H3gReqCompInfo_SQL.xml'\n",
    "# result_df = sanhakin_file_df[sanhakin_file_df['java_url'].str.contains(search_term)]\n",
    "\n",
    "# Select rows from commit_file_info where 'file_path' matches the condition\n",
    "menu_selected_files = commit_file_info_df[commit_file_info_df['file_path'].isin(sanhakin_file_df[sanhakin_file_df['menu_id'] == 'MENU0000000160']['java_url'])]\n",
    "selected_commit = commit_info_df[commit_info_df['commit_id'].isin(menu_selected_files['commit_id'])]\n",
    "selected_commit.sort_values(by='commit_date', ascending=False)\n",
    "selected_commit.fillna('')\n"
   ]
  },
  {
   "cell_type": "code",
   "execution_count": null,
   "id": "dc068286-1926-4b03-875a-34303d465169",
   "metadata": {},
   "outputs": [],
   "source": [
    "commit_file_info_df[commit_file_info_df['commit_id'] == 'c337f5c43' ]"
   ]
  },
  {
   "cell_type": "code",
   "execution_count": null,
   "id": "56af1a2a-04c5-4e0d-8a65-6981265c59c6",
   "metadata": {
    "tags": []
   },
   "outputs": [],
   "source": [
    "merge_df = pd.merge( commit_info_df, commit_file_info_df, on='commit_id', how = 'inner')[['commit_id','commit_date','commit_cls','commit_summ','file_path']]\n",
    "menu_merge_df = pd.merge( merge_df, sanhakin_file_df, left_on='file_path', right_on = 'java_url',how='inner')[['commit_id','commit_date','menu_id','menu_title','commit_cls','commit_summ','file_path']]\n",
    "menu_merge_df.head(10)"
   ]
  },
  {
   "cell_type": "code",
   "execution_count": null,
   "id": "37fa0b6a-2abc-4d4b-ba26-984cc82b8b86",
   "metadata": {
    "editable": true,
    "slideshow": {
     "slide_type": ""
    },
    "tags": []
   },
   "outputs": [],
   "source": [
    "# menu_merge_df.groupby(['menu_id','menu_title']).count()\n",
    "menu_merge_df['commit_date'] = pd.to_datetime(menu_merge_df['commit_date'])\n",
    "# # Extract year and month into new columns\n",
    "menu_merge_df['commit_year'] = menu_merge_df['commit_date'].dt.year\n",
    "menu_merge_df['commit_month'] = menu_merge_df['commit_date'].dt.month\n",
    "\n",
    "# grouped_df = menu_merge_df.groupby(['commit_year', 'commit_month','menu_id','menu_title']).agg(commit_id_count=('commit_id', 'nunique')).reset_index()\n",
    "grouped_df = menu_merge_df.groupby(['commit_year', 'commit_month','commit_cls']).agg(commit_id_count=('commit_id', 'nunique')).reset_index()\n",
    "\n",
    "# menu_merge_df[['cyl','wt']].groupby(['commit_year', 'commit_month','commit_cls']).count()\n",
    "# Display the result or use it as needed\n",
    "print(grouped_df)"
   ]
  },
  {
   "cell_type": "code",
   "execution_count": null,
   "id": "b6db9e1b-a7a2-40fd-ba3b-7e8929aec40f",
   "metadata": {},
   "outputs": [],
   "source": [
    "## 공부 참고\n",
    "import pandas as pd\n",
    "import os\n",
    "\n",
    "controller_url = \"some/path/to/your/directory/your_file.txt\"\n",
    "\n",
    "# Split the path into the directory and the file\n",
    "controller_path, controller_file = os.path.split(controller_url)\n",
    "\n",
    "# Get the directory path excluding the last directory name\n",
    "directory_path_excluding_last = os.path.dirname(controller_path)\n",
    "\n",
    "# Display the result\n",
    "print(\"Directory Path Excluding Last Directory:\", directory_path_excluding_last)\n",
    "\n",
    "# 중복 체크 및 삭제---------------------\n",
    "# Assuming df is your DataFrame and you want to check duplicates based on columns 'col1' and 'col2'\n",
    "df = pd.DataFrame({\n",
    "    'col1': [1, 2, 3, 4, 1],\n",
    "    'col2': ['A', 'B', 'C', 'D', 'A'],\n",
    "    'col3': ['X', 'Y', 'Z', 'W', 'X']\n",
    "})\n",
    "\n",
    "# Identify duplicate rows based on 'col1' and 'col2'\n",
    "duplicates = df.duplicated(subset=['col1', 'col2'], keep=False)\n",
    "\n",
    "# Display the duplicate rows\n",
    "print(df[duplicates])\n",
    "\n",
    "# Remove duplicate rows based on 'col1' and 'col2'\n",
    "df_no_duplicates = df.drop_duplicates(subset=['col1', 'col2'])\n",
    "\n",
    "# Display the DataFrame without duplicates\n",
    "print(df_no_duplicates)\n",
    "\n",
    "\n",
    "## 중복체크\n",
    "duplicate_values = DAO_sqlID[DAO_sqlID.duplicated(subset='sqlID', keep=False)]\n",
    "print(\"DataFrame with Duplicate Values:\")\n",
    "print(duplicate_values)\n",
    "## null 값 삭제\n",
    "controller_do.dropna(subset=['controller_file'], inplace=True)\n",
    "controller_do.describe()"
   ]
  }
 ],
 "metadata": {
  "kernelspec": {
   "display_name": "Python 3 (ipykernel)",
   "language": "python",
   "name": "python3"
  },
  "language_info": {
   "codemirror_mode": {
    "name": "ipython",
    "version": 3
   },
   "file_extension": ".py",
   "mimetype": "text/x-python",
   "name": "python",
   "nbconvert_exporter": "python",
   "pygments_lexer": "ipython3",
   "version": "3.12.2"
  }
 },
 "nbformat": 4,
 "nbformat_minor": 5
}
