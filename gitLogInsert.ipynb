{
 "cells": [
  {
   "cell_type": "markdown",
   "id": "bc22afac-4da0-407d-906d-87525a572784",
   "metadata": {},
   "source": [
    "## 1. 커밋로그 추출해서 커밋 정보과 커밋 파일 목록으로 나눠서 csv 파일로 저장"
   ]
  },
  {
   "cell_type": "code",
   "execution_count": 4,
   "id": "9645572b-bfb0-4516-872b-6f4c9f57aacc",
   "metadata": {
    "tags": []
   },
   "outputs": [],
   "source": [
    "import pandas as pd\n",
    "import re\n",
    "# # commit_df 초기화\n",
    "# commit_df = pd.DataFrame(columns=['commit_id', 'commiter', 'commit_date', 'commit_summ', 'commit_dtl'])\n",
    "# file_df = pd.DataFrame(columns=['commit_id', 'file_sn', 'job_cls', 'file_path'])\n",
    "commit_type = []\n",
    "commit_info = {}\n",
    "commit_data = []\n",
    "file_data = []\n",
    "commit_id = None\n",
    "file_sn = 0\n",
    "\n",
    "# 텍스트 파일을 한 줄씩 읽어옵니다.\n",
    "with open(\"./txt/gitLog_240221_2.txt\", \"r\", encoding=\"utf-8\") as file:\n",
    "    commit_dtl = \"\"  # 여러 줄의 commit_dtl을 저장할 변수 추가\n",
    "    # 각 라인을 처리\n",
    "    for i, line in enumerate(file):    \n",
    "        line = line.strip()\n",
    "        #commit 정보 처리\n",
    "        if line.startswith(\"commit_\") or line.startswith(\"Author\"):\n",
    "            parts = line.split(\"||\")\n",
    "            column_name = parts[0].strip() # 컬럼명\n",
    "            value = parts[1].strip()       # 컬럼값\n",
    "        \n",
    "            commit_info[column_name] = value\n",
    "            # 현재 commit_id 설정\n",
    "            if column_name == \"commit_id\":\n",
    "                commit_id = value\n",
    "            elif column_name == \"commit_dtl\": \n",
    "                commit_dtl = value + \" \"\n",
    "        elif line.startswith(\"file_list\"): \n",
    "            # commit_info에 저장된 commit_dtl을 업데이트\n",
    "            commit_info['commit_dtl'] = commit_dtl.strip()\n",
    "            commit_dtl = \"\"\n",
    "            # file_list 을 만나면 commit_df에 새로운 행 추가하고 초기화\n",
    "            commit_data.append(commit_info)\n",
    "            commit_info = {}\n",
    "            file_sn = 0\n",
    "        elif commit_dtl != \"\": \n",
    "            commit_dtl += line + \" \"  # 여러 줄을 공백을 포함하여 하나의 문자열로 저장            \n",
    "        # commit 관련 파일 처리    \n",
    "        elif line and line[0].isupper():\n",
    "            parts = line.split()\n",
    "            if len(parts) > 1:\n",
    "                file_sn = file_sn + 1\n",
    "                # file_df에 새로운 행 추가\n",
    "                file_data.append({'commit_id': commit_id + '', 'file_sn': file_sn, 'job_cls': parts[0], 'file_path': parts[1]})\n",
    "    \n",
    "# 데이터를 데이터프레임으로 변환합니다.\n",
    "commit_df = pd.DataFrame(commit_data)\n",
    "file_df = pd.DataFrame(file_data)\n",
    "\n",
    "# 날짜 컬럼 추출\n",
    "commit_df['commit_dt'] = pd.to_datetime(commit_df['commit_dt'])\n",
    "\n",
    "# 커밋 유형 추출하기\n",
    "commit_type = ['feat', 'fix', 'docs', 'test', 'refact', 'style', 'chore']\n",
    "# Extract the first part and remove leading/trailing whitespaces\n",
    "commit_df['first_part'] = commit_df['commit_msg'].str.split(':').str[0].str.strip()\n",
    "\n",
    "# Check if 'first_part' contains any keyword\n",
    "commit_df['contains_msg'] = commit_df['first_part'].isin(commit_type)\n",
    "\n",
    "# Filter DataFrame based on the condition\n",
    "filtered_df = commit_df[commit_df['contains_msg']]\n",
    "\n",
    "# Assign values to 'commit_type' column for the filtered rows\n",
    "commit_df.loc[commit_df['contains_msg'], 'commit_type'] = filtered_df['commit_msg'].str.split(':').str[0]\n",
    "commit_df.loc[commit_df['contains_msg'], 'commit_msg'] = filtered_df['commit_msg'].str.split(':').str[1]\n",
    "\n",
    "commit_df = commit_df.drop(['contains_msg', 'first_part'], axis=1)\n",
    "\n",
    "# NaN 값 대체\n",
    "commit_df.fillna('')\n",
    "file_df.fillna('')\n",
    "\n",
    "# 데이터프레임 csv 로 저장\n",
    "commit_df.to_csv('./csv/commit_info.csv', encoding=\"utf-8\", index=False)\n",
    "file_df.to_csv('./csv/commit_file_info.csv', encoding=\"utf-8\", index=False, float_format='%.0f')\n",
    "\n",
    "# commit_df[pd.isnull( commit_df['commit_id'])]\n",
    "# controller_do.dropna(subset=['controller_file'], inplace=True)"
   ]
  },
  {
   "cell_type": "code",
   "execution_count": 3,
   "id": "5af5bf62-7b9f-462a-a066-7650fd0b815b",
   "metadata": {
    "tags": []
   },
   "outputs": [
    {
     "name": "stdout",
     "output_type": "stream",
     "text": [
      "<class 'pandas.core.frame.DataFrame'>\n",
      "RangeIndex: 2794 entries, 0 to 2793\n",
      "Data columns (total 6 columns):\n",
      " #   Column      Non-Null Count  Dtype         \n",
      "---  ------      --------------  -----         \n",
      " 0   commit_id   2794 non-null   object        \n",
      " 1   Author      2794 non-null   object        \n",
      " 2   commit_dt   2794 non-null   datetime64[ns]\n",
      " 3   commit_msg  2794 non-null   object        \n",
      " 4   commit_dtl  2794 non-null   object        \n",
      " 5   commit_cls  153 non-null    object        \n",
      "dtypes: datetime64[ns](1), object(5)\n",
      "memory usage: 131.1+ KB\n"
     ]
    }
   ],
   "source": [
    "# commit_df[pd.isnull( commit_df['commit_id'])]\n",
    "\n",
    "# commit_df.dropna(subset=['commit_id'], inplace=True)\n",
    "# 결과 출력\n",
    "commit_df.info()"
   ]
  },
  {
   "cell_type": "code",
   "execution_count": null,
   "id": "da50ecff-7bb9-4e08-acf1-04fbf7efa9e4",
   "metadata": {},
   "outputs": [],
   "source": [
    "commit_df = pd.read_csv('./csv/commit_info.csv', encoding=\"utf-8\")\n",
    "file_df = pd.read_csv('./csv/commit_file_info.csv', encoding=\"utf-8\")"
   ]
  },
  {
   "cell_type": "code",
   "execution_count": null,
   "id": "a97eb61d-5cff-4fc5-b2c4-1750592bc61a",
   "metadata": {},
   "outputs": [],
   "source": []
  }
 ],
 "metadata": {
  "kernelspec": {
   "display_name": "Python 3 (ipykernel)",
   "language": "python",
   "name": "python3"
  },
  "language_info": {
   "codemirror_mode": {
    "name": "ipython",
    "version": 3
   },
   "file_extension": ".py",
   "mimetype": "text/x-python",
   "name": "python",
   "nbconvert_exporter": "python",
   "pygments_lexer": "ipython3",
   "version": "3.12.2"
  }
 },
 "nbformat": 4,
 "nbformat_minor": 5
}
